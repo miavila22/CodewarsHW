{
 "cells": [
  {
   "cell_type": "code",
   "execution_count": null,
   "id": "104fcb1a-5cd1-4ace-9fa9-7669a8b550e0",
   "metadata": {},
   "outputs": [],
   "source": [
    "# Codewars Homework:\n",
    "\n",
    "# https://www.codewars.com/kata/56cd44e1aa4ac7879200010b/train/python/653578b949d3ef06a8de1e0e\n",
    "\n",
    "# Is the string uppercase?\n",
    "# Task\n",
    "# Create a method to see whether the string is ALL CAPS.\n",
    "\n",
    "# Examples (input -> output)\n",
    "# \"c\" -> False\n",
    "# \"C\" -> True\n",
    "# \"hello I AM DONALD\" -> False\n",
    "# \"HELLO I AM DONALD\" -> True\n",
    "# \"ACSKLDFJSgSKLDFJSKLDFJ\" -> False\n",
    "# \"ACSKLDFJSGSKLDFJSKLDFJ\" -> True\n",
    "# In this Kata, a string is said to be in ALL CAPS whenever it does not contain any lowercase letter \n",
    "# so any string containing no letters at all is trivially considered to be in ALL CAPS.\n",
    "\n",
    "def is_uppercase(inp):\n",
    "    for i in inp:\n",
    "        if i.isalpha() and not i.isupper():\n",
    "            return False\n",
    "    return True\n",
    "\n",
    "# goes through the string just once and because of the for loop, it is linear. so O(n). Still not confident in my answer only\n",
    "# because I didn't understand the topic fully so I had to reference back to the notes. "
   ]
  },
  {
   "cell_type": "code",
   "execution_count": null,
   "id": "714dbf37-85e0-44a3-8d20-8813f69c011c",
   "metadata": {},
   "outputs": [],
   "source": [
    "# https://www.codewars.com/kata/52fba66badcd10859f00097e/train/python/65221c22e65090d3b9f19bd5\n",
    "\n",
    "# Trolls are attacking your comment section!\n",
    "# A common way to deal with this situation is to remove all of the vowels from the trolls' comments, neutralizing the threat.\n",
    "# Your task is to write a function that takes a string and return a new string with all vowels removed.\n",
    "# For example, the string \"This website is for losers LOL!\" would become \"Ths wbst s fr lsrs LL!\".\n",
    "# Note: for this kata y isn't considered a vowel.\n",
    "\n",
    "def disemvowel(string_):\n",
    "    vowels = \"aeiouAEIOU\"\n",
    "    newstr = \"\"\n",
    "    for i in string_:\n",
    "        if i not in vowels:\n",
    "            newstr += i\n",
    "        \n",
    "    return newstr\n",
    "\n",
    "# This is almost the same as the answer above. Because of the for loop, it is O(n). "
   ]
  },
  {
   "cell_type": "code",
   "execution_count": null,
   "id": "114a6431-3751-40f3-a96f-39c3d7e273db",
   "metadata": {},
   "outputs": [],
   "source": [
    "# https://www.codewars.com/kata/56bc28ad5bdaeb48760009b0/train/python/652226fa3256e894111d84b2\n",
    "\n",
    "# It's pretty straightforward. Your goal is to create a function that removes the first and last characters of a string. You're given one parameter, \n",
    "# the original string. You don't have to worry with strings with less than two characters.\n",
    "\n",
    "def remove_char(s):\n",
    "    return s[1:-1]\n",
    "# I wasnt sure about this one. I had to do some research for this and found out its O(n) because the slicing. But if I am being honest, I still don't\n",
    "# understand it. I just need to find examples that make sense for me. \n",
    "\n",
    "\n"
   ]
  },
  {
   "cell_type": "code",
   "execution_count": null,
   "id": "46d4e7f9-62cb-46ee-86ed-e5cc7983ce93",
   "metadata": {},
   "outputs": [],
   "source": []
  }
 ],
 "metadata": {
  "kernelspec": {
   "display_name": "Python 3 (ipykernel)",
   "language": "python",
   "name": "python3"
  },
  "language_info": {
   "codemirror_mode": {
    "name": "ipython",
    "version": 3
   },
   "file_extension": ".py",
   "mimetype": "text/x-python",
   "name": "python",
   "nbconvert_exporter": "python",
   "pygments_lexer": "ipython3",
   "version": "3.11.5"
  }
 },
 "nbformat": 4,
 "nbformat_minor": 5
}
